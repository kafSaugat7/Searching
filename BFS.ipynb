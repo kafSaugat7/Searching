{
  "nbformat": 4,
  "nbformat_minor": 0,
  "metadata": {
    "colab": {
      "provenance": [],
      "authorship_tag": "ABX9TyOF4qkxdZ/sYfy356bxIPWZ",
      "include_colab_link": true
    },
    "kernelspec": {
      "name": "python3",
      "display_name": "Python 3"
    },
    "language_info": {
      "name": "python"
    }
  },
  "cells": [
    {
      "cell_type": "markdown",
      "metadata": {
        "id": "view-in-github",
        "colab_type": "text"
      },
      "source": [
        "<a href=\"https://colab.research.google.com/github/kafSaugat7/Searching/blob/main/BFS.ipynb\" target=\"_parent\"><img src=\"https://colab.research.google.com/assets/colab-badge.svg\" alt=\"Open In Colab\"/></a>"
      ]
    },
    {
      "cell_type": "code",
      "execution_count": 1,
      "metadata": {
        "colab": {
          "base_uri": "https://localhost:8080/"
        },
        "id": "PZjC23x4iSTc",
        "outputId": "9e34cba4-81c6-4c20-d7cc-3ad3c42a4c08"
      },
      "outputs": [
        {
          "output_type": "stream",
          "name": "stdout",
          "text": [
            "Following is the Breadth-First Search\n",
            "A->B->C->D->E->F->G->H->I"
          ]
        }
      ],
      "source": [
        "graph = {\n",
        "    'A': ['B', 'C'],\n",
        "    'B': ['D', 'E'],\n",
        "    'C': ['F'],\n",
        "    'D': ['G', 'H'],\n",
        "    'E': ['I'],\n",
        "    'F': [],\n",
        "    'G': [],\n",
        "    'H': [],\n",
        "    'I': []\n",
        "}\n",
        "visited = []\n",
        "queue = []\n",
        "def bfs(visited, graph, node):\n",
        "    visited.append(node)\n",
        "    queue.append(node)\n",
        "    while queue:\n",
        "        m = queue.pop(0)\n",
        "        print(m, end='->' if m != 'I' else '')\n",
        "        for neighbour in graph[m]:\n",
        "            if neighbour not in visited:\n",
        "                visited.append(neighbour)\n",
        "                queue.append(neighbour)\n",
        "print(\"Following is the Breadth-First Search\")\n",
        "bfs(visited, graph, 'A')"
      ]
    }
  ]
}