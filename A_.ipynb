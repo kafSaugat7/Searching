{
  "nbformat": 4,
  "nbformat_minor": 0,
  "metadata": {
    "colab": {
      "provenance": [],
      "authorship_tag": "ABX9TyNic0O1xAnj41Q3zhPv6M4j",
      "include_colab_link": true
    },
    "kernelspec": {
      "name": "python3",
      "display_name": "Python 3"
    },
    "language_info": {
      "name": "python"
    }
  },
  "cells": [
    {
      "cell_type": "markdown",
      "metadata": {
        "id": "view-in-github",
        "colab_type": "text"
      },
      "source": [
        "<a href=\"https://colab.research.google.com/github/kafSaugat7/Searching/blob/main/A_.ipynb\" target=\"_parent\"><img src=\"https://colab.research.google.com/assets/colab-badge.svg\" alt=\"Open In Colab\"/></a>"
      ]
    },
    {
      "cell_type": "code",
      "execution_count": 4,
      "metadata": {
        "colab": {
          "base_uri": "https://localhost:8080/"
        },
        "id": "6em1tqfbijpH",
        "outputId": "dc7818e5-c88b-4ea6-eec2-0726b59b9a0e"
      },
      "outputs": [
        {
          "output_type": "stream",
          "name": "stdout",
          "text": [
            "----- A star search -----\n",
            "Enter the start node: s\n",
            "Enter the goal node: g\n",
            "Path found: ['s', 'a', 'c', 'g']\n"
          ]
        },
        {
          "output_type": "execute_result",
          "data": {
            "text/plain": [
              "['s', 'a', 'c', 'g']"
            ]
          },
          "metadata": {},
          "execution_count": 4
        }
      ],
      "source": [
        "adj_list = {\n",
        "    's': [('a', 1), ('g', 10)],\n",
        "    'a': [('b', 2), ('c', 1)],\n",
        "    'b': [('d', 5)],\n",
        "    'c': [('d', 3), ('g', 4)],\n",
        "    'd': [('g', 2)],\n",
        "    'g': []\n",
        "}\n",
        "heuristic = {\n",
        "    's': 5,\n",
        "    'a': 3,\n",
        "    'b': 4,\n",
        "    'c': 2,\n",
        "    'd': 6,\n",
        "    'g': 0\n",
        "}\n",
        "def astar_search(adj_list, heuristic, start_node, goal_node):\n",
        "    open_list = set([start_node])\n",
        "    closed_list = set([])\n",
        "    g = {}\n",
        "    g[start_node] = 0\n",
        "    parents = {}\n",
        "    parents[start_node] = start_node\n",
        "    def get_neighbors(node):\n",
        "        return adj_list[node]\n",
        "    def h(node):\n",
        "        return heuristic[node]\n",
        "    while len(open_list) > 0:\n",
        "        n = None\n",
        "        for v in open_list:\n",
        "            if n == None or g[v] + h(v) < g[n] + h(n):\n",
        "                n = v\n",
        "        if n == None:\n",
        "            print('Path does not exist!')\n",
        "            return None\n",
        "        if n == goal_node:\n",
        "            reconst_path = []\n",
        "            while parents[n] != n:\n",
        "                reconst_path.append(n)\n",
        "                n = parents[n]\n",
        "            reconst_path.append(start_node)\n",
        "            reconst_path.reverse()\n",
        "            print('Path found: {}'.format(reconst_path))\n",
        "            return reconst_path\n",
        "        for (m, weight) in get_neighbors(n):\n",
        "            if m not in open_list and m not in closed_list:\n",
        "                open_list.add(m)\n",
        "                parents[m] = n\n",
        "                g[m] = g[n] + weight\n",
        "            else:\n",
        "                if g[m] > g[n] + weight:\n",
        "                    g[m] = g[n] + weight\n",
        "                    parents[m] = n\n",
        "                    if m in closed_list:\n",
        "                        closed_list.remove(m)\n",
        "                        open_list.add(m)\n",
        "        open_list.remove(n)\n",
        "        closed_list.add(n)\n",
        "    print('Path does not exist!')\n",
        "    return None\n",
        "print(\"----- A star search -----\")\n",
        "start_node = input(\"Enter the start node: \")\n",
        "goal_node = input(\"Enter the goal node: \")\n",
        "astar_search(adj_list, heuristic, start_node, goal_node)"
      ]
    },
    {
      "cell_type": "code",
      "source": [],
      "metadata": {
        "id": "RhMkG0nma2VX"
      },
      "execution_count": null,
      "outputs": []
    }
  ]
}